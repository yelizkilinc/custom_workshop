{
  "cells": [
    {
      "cell_type": "markdown",
      "source": [
        "# Skill 4: Internet and Websites Search using Bing API - Bing Chat Clone"
      ],
      "metadata": {},
      "id": "66ab3cc5-aee4-415a-9391-1e5d37ccaf1d"
    },
    {
      "cell_type": "markdown",
      "source": [
        "In this notebook, we'll delve into the ways in which you can **boost your GPT Smart Search Engine with web search functionalities**, utilizing both Langchain and the Azure Bing Search API service.\n\nAs previously discussed in our other notebooks, **harnessing agents and tools is an effective approach**. We aim to leverage the capabilities of OpenAI's large language models (LLM), such as GPT-3.5 and its successors, to perform the heavy lifting of reasoning and researching on our behalf.\n\nThere are numerous instances where it is necessary for our Smart Search Engine to have internet access. For instance, we may wish to **enrich an answer with information available on the web**, or **provide users with up-to-date and recent information**, or **finding information on an specific public website**. Regardless of the scenario, we require our engine to base its responses on search results.\n\nBy the conclusion of this notebook, you'll have a solid understanding of the Bing Search API basics, including **how to create a Web Search Agent using the Bing Search API**, and how these tools can strengthen your chatbot. Additionally, you'll learn about Callbacks, another way  of **how to observe Agent Actions and their significance in bot applications**."
      ],
      "metadata": {},
      "id": "306fc0a9-4044-441d-9ba7-f54f32e6ea9f"
    },
    {
      "cell_type": "code",
      "source": [
        "import os\n",
        "import requests\n",
        "from typing import Dict, List, Optional, Type\n",
        "import asyncio\n",
        "from concurrent.futures import ThreadPoolExecutor\n",
        "from bs4 import BeautifulSoup\n",
        "\n",
        "\n",
        "from langchain import hub\n",
        "from langchain.callbacks.manager import AsyncCallbackManagerForToolRun, CallbackManagerForToolRun\n",
        "from langchain.pydantic_v1 import BaseModel, Field\n",
        "from langchain.tools import BaseTool, StructuredTool, tool\n",
        "from langchain_openai import AzureChatOpenAI\n",
        "from langchain.agents import AgentExecutor, Tool, create_openai_tools_agent\n",
        "from langchain.callbacks.manager import CallbackManager\n",
        "from langchain.agents import initialize_agent, AgentType\n",
        "from langchain.utilities import BingSearchAPIWrapper\n",
        "from azure.identity import ManagedIdentityCredential\n",
        "import openai\n",
        "from common.callbacks import StdOutCallbackHandler\n",
        "from common.prompts import BINGSEARCH_PROMPT\n",
        "\n",
        "from IPython.display import Markdown, HTML, display  \n",
        "\n",
        "def printmd(string):\n",
        "    display(Markdown(string.replace(\"$\",\"USD \")))\n",
        "\n",
        "from dotenv import load_dotenv\n",
        "load_dotenv(\"credentials.env\")\n"
      ],
      "outputs": [
        {
          "output_type": "execute_result",
          "execution_count": 1,
          "data": {
            "text/plain": "True"
          },
          "metadata": {}
        }
      ],
      "execution_count": 1,
      "metadata": {
        "gather": {
          "logged": 1727055381154
        }
      },
      "id": "c1fb79a3-4856-4721-988c-112813690a90"
    },
    {
      "cell_type": "markdown",
      "source": [
        "## Introduction to Callback Handlers"
      ],
      "metadata": {},
      "id": "d85dc4b5-2a3e-45bf-bc6c-7f4605149382"
    },
    {
      "cell_type": "markdown",
      "source": [
        "**Callbacks**:\n\nLangChain provides a callbacks system, another way to monitor/observe agent actions, that allows you to hook into the various stages of your LLM application. This is useful for logging, monitoring, streaming, and other tasks. You can subscribe to these events by using the callbacks argument available throughout the API. This argument is a list of handler objects.\n\n**Callback handlers**:\n\nCallbackHandlers are objects that implement the CallbackHandler interface, which has a method for each event that can be subscribed to. The CallbackManager will call the appropriate method on each handler when the event is triggered.\n\n---\n\nWe will incorporate a handler for the callbacks, enabling us to observe the response as it streams and to gain insights into the Agent's reasoning process. This will prove incredibly valuable when we aim to stream the bot's responses to users and keep them informed about the ongoing process as they await the answer.\n\nOur custom handler is in the folder `common/callbacks.py`. Go and take a look at it.\n"
      ],
      "metadata": {},
      "id": "108f80d1-9333-4bad-b73a-615429cf9336"
    },
    {
      "cell_type": "code",
      "source": [
        "# Step 1: Specify the client ID of the User Managed Identity\n",
        "user_managed_identity_client_id = \"d30cba06-04c1-4065-a91d-8b7ce3b07b78\"  # Replace with your User Managed Identity client ID\n",
        "\n",
        "# Step 2: Fetch the access token using ManagedIdentityCredential and the client ID of the user-managed identity\n",
        "credential = ManagedIdentityCredential(client_id=user_managed_identity_client_id)\n",
        "token = credential.get_token(\"https://cognitiveservices.azure.com/.default\")\n",
        "\n",
        "# Step 3: Set the access token in the OpenAI API\n",
        "openai.api_key = token.token\n",
        "openai.api_type = \"azure\"\n",
        "openai.api_base = \"https://azuremlopenai.openai.azure.com/\"  # Replace with your OpenAI resource's base URL\n",
        "openai.api_version = \"2023-06-01-preview\"  # Use the correct API version\n"
      ],
      "outputs": [],
      "execution_count": 2,
      "metadata": {
        "jupyter": {
          "source_hidden": false,
          "outputs_hidden": false
        },
        "nteract": {
          "transient": {
            "deleting": false
          }
        },
        "gather": {
          "logged": 1727055381312
        }
      },
      "id": "227ee54c-9b9d-47e4-852b-9a1ea8f00842"
    },
    {
      "cell_type": "code",
      "source": [
        "cb_handler = StdOutCallbackHandler()\n",
        "cb_manager = CallbackManager(handlers=[cb_handler])\n",
        "\n",
        "COMPLETION_TOKENS = 2000\n",
        "\n",
        "llm = AzureChatOpenAI(openai_api_key=token.token,azure_endpoint=openai.api_base,openai_api_version=openai.api_version,deployment_name=os.environ[\"GPT4o_DEPLOYMENT_NAME\"], \n",
        "                      temperature=0.5, max_tokens=COMPLETION_TOKENS, \n",
        "                      streaming=True, callback_manager=cb_manager)\n"
      ],
      "outputs": [],
      "execution_count": 3,
      "metadata": {
        "gather": {
          "logged": 1727055381444
        }
      },
      "id": "1380fb0d-3502-4fc0-b729-9bc46d5c9804"
    },
    {
      "cell_type": "markdown",
      "source": [
        "### Creating a custom tool - Bing Search API tool"
      ],
      "metadata": {},
      "id": "11da70c2-60b6-47fb-94f1-aa11291fa40c"
    },
    {
      "cell_type": "markdown",
      "source": [
        "Langhain has already a pre-created tool called BingSearchAPIWrapper, however we are going to make it a bit better by using the results function instead of the run function, that way we not only have the text results, but also the title and link(source) of each snippet."
      ],
      "metadata": {},
      "id": "4dc30c9d-605d-4ada-9358-f926aeed2e48"
    },
    {
      "cell_type": "code",
      "source": [
        "#Keyvault\n",
        "from azure.ai.ml import MLClient\n",
        "from azure.identity import DefaultAzureCredential\n",
        "from azureml.core import Workspace\n",
        "\n",
        "ml_client = MLClient.from_config(credential=DefaultAzureCredential(), path=\"workspace.json\")\n",
        "ws = Workspace(\n",
        "    subscription_id=ml_client.subscription_id,\n",
        "    resource_group=ml_client.resource_group_name,\n",
        "    workspace_name=ml_client.workspace_name,\n",
        ")\n",
        "print(ml_client)\n",
        "\n",
        "import uuid\n",
        "\n",
        "bingsubscriptionkey=\"c8e197f82bdc4bfcad29ab53483afa02\"\n",
        "keyvault = ws.get_default_keyvault()\n",
        "keyvault.set_secret(name=\"bingsubscriptionkey\", value = bingsubscriptionkey)\n"
      ],
      "outputs": [
        {
          "output_type": "stream",
          "name": "stderr",
          "text": "Found the config file in: workspace.json\n"
        },
        {
          "output_type": "stream",
          "name": "stdout",
          "text": "MLClient(credential=<azure.identity._credentials.default.DefaultAzureCredential object at 0x7f8a5f9750c0>,\n         subscription_id=fe38c376-b42a-4741-9e7c-f5d7c31e5873,\n         resource_group_name=yelizkilinc-rg,\n         workspace_name=aml-prod)\n"
        }
      ],
      "execution_count": 21,
      "metadata": {
        "jupyter": {
          "source_hidden": false,
          "outputs_hidden": false
        },
        "nteract": {
          "transient": {
            "deleting": false
          }
        },
        "gather": {
          "logged": 1727056175943
        }
      },
      "id": "2a4c5ad5-602a-446c-8815-4aa41be1f662"
    },
    {
      "cell_type": "code",
      "source": [
        "bing_subscription_key=keyvault.get_secret(name=\"bingsubscriptionkey\")"
      ],
      "outputs": [],
      "execution_count": 22,
      "metadata": {
        "jupyter": {
          "source_hidden": false,
          "outputs_hidden": false
        },
        "nteract": {
          "transient": {
            "deleting": false
          }
        },
        "gather": {
          "logged": 1727056183028
        }
      },
      "id": "34305b56-17d3-4182-9868-cae0ea24fdbf"
    },
    {
      "cell_type": "code",
      "source": [
        "class SearchInput(BaseModel):\n",
        "    query: str = Field(description=\"should be a search query\")\n",
        "\n",
        "class MyBingSearch(BaseTool):\n",
        "    \"\"\"Tool for a Bing Search Wrapper\"\"\"\n",
        "    \n",
        "    name = \"Searcher\"\n",
        "    description = \"useful to search the internet.\\n\"\n",
        "    args_schema: Type[BaseModel] = SearchInput\n",
        "\n",
        "    k: int = 5\n",
        "    \n",
        "    def _run(self, query: str, run_manager: Optional[CallbackManagerForToolRun] = None) -> str:\n",
        "        bing = BingSearchAPIWrapper(bing_subscription_key=bing_subscription_key, k=self.k)\n",
        "        return bing.results(query,num_results=self.k)\n",
        "            \n",
        "    async def _arun(self, query: str, run_manager: Optional[AsyncCallbackManagerForToolRun] = None) -> str:\n",
        "        bing = BingSearchAPIWrapper(bing_subscription_key=bing_subscription_key,k=self.k)\n",
        "        loop = asyncio.get_event_loop()\n",
        "        results = await loop.run_in_executor(ThreadPoolExecutor(), bing.results, query, self.k)\n",
        "        return results"
      ],
      "outputs": [],
      "execution_count": 23,
      "metadata": {
        "gather": {
          "logged": 1727056204236
        }
      },
      "id": "d3d155ae-16eb-458a-b2ed-5aa9a9b84ed8"
    },
    {
      "cell_type": "markdown",
      "source": [
        "### Creating another custom tool - WebFetcher: Visits a website and extracts the text\n",
        "    You will need GPT-4 with a big context token size for this tool since the content of a website can be very lenghty"
      ],
      "metadata": {},
      "id": "58e3da24-5fa5-47c3-ab43-1840e05f1f54"
    },
    {
      "cell_type": "code",
      "source": [
        "def parse_html(content) -> str:\n",
        "    soup = BeautifulSoup(content, 'html.parser')\n",
        "    text_content_with_links = soup.get_text()\n",
        "    return text_content_with_links\n",
        "\n",
        "def fetch_web_page(url: str) -> str:\n",
        "    HEADERS = {'User-Agent': 'Mozilla/5.0 (Macintosh; Intel Mac OS X 10.15; rv:90.0) Gecko/20100101 Firefox/90.0'}\n",
        "    response = requests.get(url, headers=HEADERS)\n",
        "    return parse_html(response.content)"
      ],
      "outputs": [],
      "execution_count": 24,
      "metadata": {
        "gather": {
          "logged": 1727056206344
        }
      },
      "id": "74b714b6-e6e6-492b-8434-6081a1ff183e"
    },
    {
      "cell_type": "code",
      "source": [
        "web_fetch_tool = Tool.from_function(\n",
        "    func=fetch_web_page,\n",
        "    name=\"WebFetcher\",\n",
        "    description=\"useful to fetch the content of a url\"\n",
        ")"
      ],
      "outputs": [],
      "execution_count": 25,
      "metadata": {
        "gather": {
          "logged": 1727056207055
        }
      },
      "id": "201d1f47-519e-40b3-80b2-2d29a494dd62"
    },
    {
      "cell_type": "markdown",
      "source": [
        "### Creating the Agent"
      ],
      "metadata": {},
      "id": "0c35b2f7-fd32-4ab0-bdd4-966da6e9587d"
    },
    {
      "cell_type": "markdown",
      "source": [
        "Now, we create our OpenAI Tools type agent that uses our custom tools and our custom prompt `BING_PROMPT_PREFIX`. Check it out in `prompts.py`"
      ],
      "metadata": {},
      "id": "0a3d6569-0c61-4b1c-9263-431304577551"
    },
    {
      "cell_type": "code",
      "source": [
        "tools = [MyBingSearch(k=5), web_fetch_tool] # With GPT-4 you can add the web_fetch_tool\n",
        "\n",
        "# tools = [MyBingSearch(k=5)] # With GPT-3.5 \n",
        "\n",
        "prompt = BINGSEARCH_PROMPT\n",
        "\n",
        "# Construct the OpenAI Tools agent\n",
        "agent = create_openai_tools_agent(llm, tools, prompt)\n",
        "\n",
        "# Create an agent executor by passing in the agent and tools\n",
        "agent_executor = AgentExecutor(agent=agent, tools=tools, verbose=False, \n",
        "                               return_intermediate_steps=True)"
      ],
      "outputs": [],
      "execution_count": 26,
      "metadata": {
        "gather": {
          "logged": 1727056209073
        }
      },
      "id": "2c6cf721-76bb-47b6-aeeb-9ff4ff92b1f4"
    },
    {
      "cell_type": "code",
      "source": [
        "agent_executor.tools"
      ],
      "outputs": [
        {
          "output_type": "execute_result",
          "execution_count": 27,
          "data": {
            "text/plain": "[MyBingSearch(),\n Tool(name='WebFetcher', description='useful to fetch the content of a url', func=<function fetch_web_page at 0x7f8a64448f70>)]"
          },
          "metadata": {}
        }
      ],
      "execution_count": 27,
      "metadata": {
        "gather": {
          "logged": 1727056209395
        }
      },
      "id": "4bf377b4-0913-4695-bcf9-31629b2cf66f"
    },
    {
      "cell_type": "markdown",
      "source": [
        "Try some of the below questions, or others that you might like"
      ],
      "metadata": {},
      "id": "7232260e-e972-4288-b0b5-0b605e584528"
    },
    {
      "cell_type": "code",
      "source": [
        "# QUESTION = \"Create a list with the main facts on What is happening with the oil supply in the world right now?\"\n",
        "# QUESTION = \"How much is 50 USD in Euros and is it enough for an average hotel in Madrid?\"\n",
        "# QUESTION = \"My son needs to build a pinewood car for a pinewood derbi, how do I build such a car?\"\n",
        "# QUESTION = \"I'm planning a vacation to Greece, tell me budget for a family of 4, in Summer, for 7 days including travel, lodging and food costs\"\n",
        "# QUESTION = \"Who won the 2023 superbowl and who was the MVP?\"\n",
        "QUESTION = \"\"\"\n",
        "compare the number of job opennings (provide the exact number), the average salary within 15 miles of Dallas, TX, for these ocupations:\n",
        "\n",
        "- ADN Registerd Nurse \n",
        "- Occupational therapist assistant\n",
        "- Dental Hygienist\n",
        "- Graphic Designer\n",
        "\n",
        "\n",
        "# Create a table with your findings. Place the sources on each cell.\n",
        "# \"\"\""
      ],
      "outputs": [],
      "execution_count": 28,
      "metadata": {
        "gather": {
          "logged": 1727056212081
        }
      },
      "id": "fa949cea-c9aa-4529-a75f-61084ffffd7e"
    },
    {
      "cell_type": "markdown",
      "source": [
        "### Agent Actions/Observations during streaming"
      ],
      "metadata": {
        "tags": []
      },
      "id": "1e8e0b32-a6b5-4b1c-943d-e57b737213fa"
    },
    {
      "cell_type": "markdown",
      "source": [
        "Streaming is an important UX consideration for LLM apps, and agents are no exception. Streaming with agents is made more complicated by the fact that it’s not just tokens of the final answer that you will want to stream, but you may also want to stream back the intermediate steps an agent takes.\n\nThe outputs also contain richer structured information inside of actions and steps, which could be useful in some situations, but can also be harder to parse.\n\nAt the end of Notebook 3 we learned that streaming can be simply achieve by doing this:\n\n```python\nfor chunk in chain.stream({\"question\": QUESTION, \"language\": \"English\", \"history\":\"\"}):\n    print(chunk, end=\"\", flush=True)\n```\n\nAt the end of Notebook 6 we learned about the new astream_events API (beta).\n\n```python\nasync for event in agent_with_chat_history.astream_events(\n    {\"question\": QUESTION}, config=config, version=\"v1\"):\n```\n\nNow we are going to achieve the same result of the astream_events API, by combining Callbacks with the astream() function:\n\n    With Agents, we would need to parse the information contained on each streamed chunk since it contains a lot of information and also use the callback handler to stream the tokens."
      ],
      "metadata": {},
      "id": "003327ac-2851-48ef-8a6b-2d8c2004bb2e"
    },
    {
      "cell_type": "code",
      "source": [
        "async for chunk in agent_executor.astream({\"question\": QUESTION}):\n",
        "    # Agent Action\n",
        "    if \"actions\" in chunk:\n",
        "        for action in chunk[\"actions\"]:\n",
        "            print(f\"Calling Tool: `{action.tool}` with input `{action.tool_input}`\")\n",
        "    # Observation\n",
        "    elif \"steps\" in chunk:\n",
        "        # Uncomment if you need to have the information retrieve from the tool\n",
        "        # for step in chunk[\"steps\"]:\n",
        "        #     print(f\"Tool Result: `{step.observation}`\")\n",
        "        continue\n",
        "    # Final result\n",
        "    elif \"output\" in chunk:\n",
        "        # No need to print the final output again since we would be streaming it as it is produced\n",
        "        # print(f'Final Output: {chunk[\"output\"]}') \n",
        "        continue\n",
        "    else:\n",
        "        raise ValueError()\n",
        "    print(\"---\")"
      ],
      "outputs": [
        {
          "output_type": "stream",
          "name": "stdout",
          "text": "Calling Tool: `Searcher` with input `{'query': 'ADN Registered Nurse job openings within 15 miles of Dallas, TX'}`\n---\nCalling Tool: `Searcher` with input `{'query': 'Occupational therapist assistant job openings within 15 miles of Dallas, TX'}`\n---\nCalling Tool: `Searcher` with input `{'query': 'Dental Hygienist job openings within 15 miles of Dallas, TX'}`\n---\nCalling Tool: `Searcher` with input `{'query': 'Graphic Designer job openings within 15 miles of Dallas, TX'}`\n---\nCalling Tool: `Searcher` with input `{'query': 'average salary of ADN Registered Nurse within 15 miles of Dallas, TX'}`\n---\nCalling Tool: `Searcher` with input `{'query': 'average salary of Occupational therapist assistant within 15 miles of Dallas, TX'}`\n---\nCalling Tool: `Searcher` with input `{'query': 'average salary of Dental Hygienist within 15 miles of Dallas, TX'}`\n---\nCalling Tool: `Searcher` with input `{'query': 'average salary of Graphic Designer within 15 miles of Dallas, TX'}`\n---\nHere is a comparison of the number of job openings and the average salary for the specified occupations within 15 miles of Dallas, TX:\n\n| Occupation                      | Number of Job Openings                                                                                                                  | Average Salary                                                                                      |\n|---------------------------------|-----------------------------------------------------------------------------------------------------------------------------------------|-----------------------------------------------------------------------------------------------------|\n| **ADN Registered Nurse**        | 327 job openings [[1]](https://www.indeed.com/q-RN-Adn-l-Dallas,-TX-jobs.html)                                                           | $70,905 per year [[6]](https://www.salary.com/research/salary/hiring/rn-adn-salary/dallas-tx)        |\n| **Occupational Therapist Assistant** | 116 job openings [[2]](https://www.indeed.com/q-Occuational-Therapy-Assistant-l-Dallas,-TX-jobs.html)                                  | $63,013 per year [[7]](https://www.salary.com/research/salary/listing/occupational-therapy-assistant-salary/dallas-tx) |\n| **Dental Hygienist**            | 126 job openings [[3]](https://www.glassdoor.com/Job/dallas-dental-hygienist-jobs-SRCH_IL.0,6_IC1139977_KO7,23.htm)                     | $82,820 per year [[8]](https://www.salary.com/research/salary/benchmark/dental-hygienist-salary/dallas-tx) |\n| **Graphic Designer**            | 97 job openings [[4]](https://www.indeed.com/q-Graphic-Design-l-Dallas,-TX-jobs.html)                                                   | $69,530 per year [[9]](https://www.salary.com/research/salary/recruiting/graphic-designer-salary/dallas-tx) |\n\n### Sources:\n1. [ADN Registered Nurse Job Openings](https://www.indeed.com/q-RN-Adn-l-Dallas,-TX-jobs.html)\n2. [Occupational Therapist Assistant Job Openings](https://www.indeed.com/q-Occuational-Therapy-Assistant-l-Dallas,-TX-jobs.html)\n3. [Dental Hygienist Job Openings](https://www.glassdoor.com/Job/dallas-dental-hygienist-jobs-SRCH_IL.0,6_IC1139977_KO7,23.htm)\n4. [Graphic Designer Job Openings](https://www.indeed.com/q-Graphic-Design-l-Dallas,-TX-jobs.html)\n5. [ADN Registered Nurse Salary](https://www.salary.com/research/salary/hiring/rn-adn-salary/dallas-tx)\n6. [Occupational Therapist Assistant Salary](https://www.salary.com/research/salary/listing/occupational-therapy-assistant-salary/dallas-tx)\n7. [Dental Hygienist Salary](https://www.salary.com/research/salary/benchmark/dental-hygienist-salary/dallas-tx)\n8. [Graphic Designer Salary](https://www.salary.com/research/salary/recruiting/graphic-designer-salary/dallas-tx)\n\nLet me know if you need any further information!"
        }
      ],
      "execution_count": 29,
      "metadata": {
        "gather": {
          "logged": 1727056233128
        }
      },
      "id": "ca948d67-6717-4843-b7ab-b13155aa8581"
    },
    {
      "cell_type": "markdown",
      "source": [
        "#### Without showing the intermedite steps, just the final answer"
      ],
      "metadata": {},
      "id": "25d49f6e-73eb-4513-9341-fcad5e5e33e6"
    },
    {
      "cell_type": "code",
      "source": [
        "QUESTION = \"How much is 50 USD in Euros and is it enough for an average hotel in Madrid?\"\n",
        "\n",
        "try:\n",
        "    response = agent_executor.invoke({\"question\":QUESTION})\n",
        "except Exception as e:\n",
        "    response = str(e)"
      ],
      "outputs": [
        {
          "output_type": "stream",
          "name": "stdout",
          "text": "### Currency Conversion and Hotel Costs in Madrid\n\n#### 1. Currency Conversion\nAs of the latest data, the exchange rate is:\n- **1 USD = 0.8961 EUR**\n- Therefore, **50 USD is approximately 44.80 EUR** [[1]](https://www.xe.com/currencyconverter/convert/?From=USD&To=EUR).\n\n#### 2. Average Hotel Cost in Madrid\nThe cost of hotels in Madrid varies based on the type of accommodation and amenities offered. Here are some average costs:\n- **Budget Hotels**: Around 51 USD per night.\n- **Mid-range Hotels**: Around 94 USD per night.\n- **Luxury Hotels**: Around 171 USD per night.\n- **Overall Average**: The average hotel price in Madrid is approximately 89 USD per night [[2]](https://www.budgetyourtrip.com/hotels/spain/madrid-3117735).\n\n#### Conclusion\nWith 50 USD (approximately 44.80 EUR), it would be challenging to find accommodation in Madrid, as even budget hotels average around 51 USD per night. You might need to increase your budget slightly or look for special deals or hostels that might offer lower rates.\n\nIf you need further assistance or have more questions, feel free to ask!"
        }
      ],
      "execution_count": 30,
      "metadata": {
        "gather": {
          "logged": 1727056240948
        }
      },
      "id": "ca910f71-60fb-4758-b4a9-757e37eb421f"
    },
    {
      "cell_type": "code",
      "source": [
        "printmd(response[\"output\"])"
      ],
      "outputs": [
        {
          "output_type": "display_data",
          "data": {
            "text/plain": "<IPython.core.display.Markdown object>",
            "text/markdown": "### Currency Conversion and Hotel Costs in Madrid\n\n#### 1. Currency Conversion\nAs of the latest data, the exchange rate is:\n- **1 USD = 0.8961 EUR**\n- Therefore, **50 USD is approximately 44.80 EUR** [[1]](https://www.xe.com/currencyconverter/convert/?From=USD&To=EUR).\n\n#### 2. Average Hotel Cost in Madrid\nThe cost of hotels in Madrid varies based on the type of accommodation and amenities offered. Here are some average costs:\n- **Budget Hotels**: Around 51 USD per night.\n- **Mid-range Hotels**: Around 94 USD per night.\n- **Luxury Hotels**: Around 171 USD per night.\n- **Overall Average**: The average hotel price in Madrid is approximately 89 USD per night [[2]](https://www.budgetyourtrip.com/hotels/spain/madrid-3117735).\n\n#### Conclusion\nWith 50 USD (approximately 44.80 EUR), it would be challenging to find accommodation in Madrid, as even budget hotels average around 51 USD per night. You might need to increase your budget slightly or look for special deals or hostels that might offer lower rates.\n\nIf you need further assistance or have more questions, feel free to ask!"
          },
          "metadata": {}
        }
      ],
      "execution_count": 31,
      "metadata": {
        "gather": {
          "logged": 1727056246019
        }
      },
      "id": "25a410b2-9950-43f5-8f14-b333bdc24ff2"
    },
    {
      "cell_type": "markdown",
      "source": [
        "## QnA to specific websites\n",
        "\n",
        "There are several use cases where we want the smart bot to answer questions about a specific company's public website. There are two approaches we can take:\n",
        "\n",
        "1. Create a crawler script that runs regularly, finds every page on the website, and pushes the documents to Azure Cognitive Search.\n",
        "2. Since Bing has likely already indexed the public website, we can utilize Bing search targeted specifically to that site, rather than attempting to index the site ourselves and duplicate the work already done by Bing's crawler.\n",
        "\n",
        "Below are some sample questions related to specific sites. Take a look:"
      ],
      "metadata": {},
      "id": "e9ba3e35-8021-4262-8494-d1aee3862f7e"
    },
    {
      "cell_type": "code",
      "source": [
        "QUESTION = \"information on how to deal with wasps in homedepot.com\"\n",
        "# QUESTION = \"in target.com, find how what's the price of a Nesspresso coffee machine and of a Keurig coffee machine\"\n",
        "# QUESTION = \"in microsoft.com, find out what is the latests news on quantum computing\"\n",
        "# QUESTION = \"give me on a list the main points on the latest investor report from mondelezinternational.com\""
      ],
      "outputs": [],
      "execution_count": 32,
      "metadata": {
        "gather": {
          "logged": 1727056251163
        }
      },
      "id": "e925ee4a-d295-4815-9e8c-bd6999f48892"
    },
    {
      "cell_type": "code",
      "source": [
        "async for chunk in agent_executor.astream({\"question\": QUESTION}):\n",
        "    # Agent Action\n",
        "    if \"actions\" in chunk:\n",
        "        for action in chunk[\"actions\"]:\n",
        "            print(f\"Calling Tool: `{action.tool}` with input `{action.tool_input}`\")\n",
        "    # Observation\n",
        "    elif \"steps\" in chunk:\n",
        "        # Uncomment if you need to have the information retrieve from the tool\n",
        "        # for step in chunk[\"steps\"]:\n",
        "        #     print(f\"Tool Result: `{step.observation}`\")\n",
        "        continue\n",
        "    # Final result\n",
        "    elif \"output\" in chunk:\n",
        "        # No need to print the final output again since we would be streaming it as it is produced\n",
        "        # print(f'Final Output: {chunk[\"output\"]}') \n",
        "        continue\n",
        "    else:\n",
        "        raise ValueError()\n",
        "    print(\"---\")"
      ],
      "outputs": [
        {
          "output_type": "stream",
          "name": "stdout",
          "text": "Calling Tool: `Searcher` with input `{'query': 'how to deal with wasps site:homedepot.com'}`\n---\nCalling Tool: `WebFetcher` with input `https://videos.homedepot.com/detail/videos/outdoor-living/video/5856341160001/how-to-get-rid-of-wasps?page=1`\n---\nHere are some detailed tips on how to deal with wasps based on resources from Home Depot:\n\n### How to Get Rid of Wasps\n\n1. **Identify the Type of Wasp**:\n   - Different types of wasps may require different methods for removal. Common types include paper wasps, yellow jackets, and hornets.\n\n2. **Locate the Nest**:\n   - Wasps usually build nests in sheltered areas. Look under eaves, in trees, shrubs, or even underground.\n\n3. **Use Wasp Spray**:\n   - Home Depot offers various wasp sprays that can be used to kill wasps from a distance. It's best to spray at night when wasps are less active.\n\n4. **Wear Protective Clothing**:\n   - Always wear protective clothing, including long sleeves, pants, gloves, and a face mask to avoid stings.\n\n5. **Remove the Nest**:\n   - Once the wasps are dead, carefully remove the nest to prevent other wasps from moving in. Use a long stick or a tool to knock the nest down and dispose of it in a sealed bag.\n\n6. **Prevent Future Infestations**:\n   - Seal any cracks or openings in your home where wasps might enter.\n   - Keep food and garbage covered to avoid attracting wasps.\n   - Consider using wasp traps available at Home Depot to catch and kill wasps before they can establish a"
        }
      ],
      "execution_count": 33,
      "metadata": {
        "gather": {
          "logged": 1727055385092
        }
      },
      "id": "1f7c4e6d-03a8-47f8-b859-f7b397981a6d"
    },
    {
      "cell_type": "markdown",
      "source": [
        "# Summary"
      ],
      "metadata": {},
      "id": "56cbc405-26e2-471e-9626-2a0df07f5ddc"
    },
    {
      "cell_type": "markdown",
      "source": [
        "In this notebook, we learned how to create a Bing Chat clone using a clever prompt with specific search and formatting instructions. We also learned about combining the Callback Handlers with the agent stream() or astream() functions, to stream the response from the LLM while showing the intermediate steps.  \n",
        "\n",
        "The outcome is an agent capable of conducting intelligent web searches and performing research on our behalf. This agent provides us with answers to our questions along with appropriate URL citations and links!\n",
        "\n",
        "**Note**: as we have said before GPT-4 will be more accurate following instructions, hold more space for context, and provide better responses."
      ],
      "metadata": {},
      "id": "7381ea5f-7269-4e1f-8b0c-1e2c04bd84c0"
    },
    {
      "cell_type": "markdown",
      "source": [
        "# NEXT\n",
        "\n",
        "The Next Notebook will guide you on how we stick everything together. How do we use the features of all notebooks and create a brain agent that can respond to any request accordingly."
      ],
      "metadata": {},
      "id": "02073623-91b4-40d6-8eaf-cb6d9c6a7a9a"
    },
    {
      "cell_type": "code",
      "source": [],
      "outputs": [],
      "execution_count": null,
      "metadata": {},
      "id": "44adf1ce-cb34-41dc-a7bc-ab73d64a5dc3"
    }
  ],
  "metadata": {
    "kernelspec": {
      "name": "python310-sdkv2",
      "language": "python",
      "display_name": "Python 3.10 - SDK v2"
    },
    "language_info": {
      "name": "python",
      "version": "3.10.11",
      "mimetype": "text/x-python",
      "codemirror_mode": {
        "name": "ipython",
        "version": 3
      },
      "pygments_lexer": "ipython3",
      "nbconvert_exporter": "python",
      "file_extension": ".py"
    },
    "kernel_info": {
      "name": "python310-sdkv2"
    },
    "microsoft": {
      "ms_spell_check": {
        "ms_spell_check_language": "en"
      },
      "host": {
        "AzureML": {
          "notebookHasBeenCompleted": true
        }
      }
    },
    "nteract": {
      "version": "nteract-front-end@1.0.0"
    }
  },
  "nbformat": 4,
  "nbformat_minor": 5
}