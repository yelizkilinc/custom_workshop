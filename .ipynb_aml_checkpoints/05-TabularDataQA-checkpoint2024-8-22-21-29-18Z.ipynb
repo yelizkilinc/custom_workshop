{
  "cells": [
    {
      "cell_type": "markdown",
      "source": [
        "# Q&A against Tabular Data from a CSV file  (experimental)"
      ],
      "metadata": {},
      "id": "45b4b5a4-96b0-4935-b890-8eb1c3d678ad"
    },
    {
      "cell_type": "markdown",
      "source": [
        "To really have a Smart Search Engine or Virtual assistant that can answer any question about your corporate documents, this \"engine\" must understand tabular data, aka, sources with tables, rows and columns with numbers. \nThis is a different problem that simply looking for the top most similar results.  **The concept of indexing, bringing top results, embedding, doing a cosine semantic search and summarize an answer, doesn't really apply to this problem.\nWe are dealing now with sources with Tables in which each row and column are related to each other, and in order to answer a question, all of the data is needed, not just top results.**\n\nIn this notebook, the goal is to show how to deal with this kind of use cases. To continue with our Covid-19 theme, we will be using an open dataset called [\"Covid Tracking Project\"](https://covidtracking.com/data/download). The COVID Tracking Project dataset is a  CSV file that provides the latest numbers on tests, confirmed cases, hospitalizations, and patient outcomes from every US state and territory (they stopped tracking on March 7 2021).\n\n**Imagine that many documents on a data lake are tabular data, or that your use case is to ask questions in natural language to a LLM model and this model needs to get the context from a CSV file or even a SQL Database in order to answer the question.** A GPT Smart Search Engine, must understand how to deal with this sources, understand the data and answer acoordingly."
      ],
      "metadata": {},
      "id": "9697d091-a0fb-4aac-9761-36dbfbebae29"
    },
    {
      "cell_type": "code",
      "source": [
        "import os\n",
        "import pandas as pd\n",
        "\n",
        "from langchain.chat_models import AzureChatOpenAI\n",
        "from langchain_experimental.agents.agent_toolkits import create_pandas_dataframe_agent\n",
        "from langchain_experimental.agents.agent_toolkits import create_csv_agent\n",
        "\n",
        "from common.prompts import CSV_PROMPT_PREFIX, CSV_PROMPT_SUFFIX\n",
        "\n",
        "from IPython.display import Markdown, HTML, display  \n",
        "\n",
        "from dotenv import load_dotenv\n",
        "load_dotenv(\"credentials.env\")\n",
        "\n",
        "def printmd(string):\n",
        "    display(Markdown(string))"
      ],
      "outputs": [],
      "execution_count": 1,
      "metadata": {
        "gather": {
          "logged": 1727039332954
        }
      },
      "id": "4ccab2f5-f8d3-4eb5-b1a7-961388d33d3d"
    },
    {
      "cell_type": "markdown",
      "source": [
        "## Download the dataset and load it into Pandas Dataframe"
      ],
      "metadata": {},
      "id": "dd23c284-a569-4e9f-9c77-62da216be92b"
    },
    {
      "cell_type": "code",
      "source": [
        "os.makedirs(\"data\",exist_ok=True)"
      ],
      "outputs": [],
      "execution_count": 3,
      "metadata": {
        "gather": {
          "logged": 1727038331781
        }
      },
      "id": "09035e45-419d-4870-a297-5b5afac18d6c"
    },
    {
      "cell_type": "code",
      "source": [
        "!wget https://covidtracking.com/data/download/all-states-history.csv -P ./data/"
      ],
      "outputs": [
        {
          "output_type": "stream",
          "name": "stdout",
          "text": "--2024-09-22 20:52:13--  https://covidtracking.com/data/download/all-states-history.csv\nResolving covidtracking.com (covidtracking.com)... 172.67.183.132, 104.21.64.114, 2606:4700:3032::ac43:b784, ...\nConnecting to covidtracking.com (covidtracking.com)|172.67.183.132|:443... connected.\nHTTP request sent, awaiting response... 200 OK\nLength: unspecified [text/csv]\nSaving to: ‘./data/all-states-history.csv.1’\n\nall-states-history.     [ <=>                ]   2.61M  --.-KB/s    in 0.04s   \n\n2024-09-22 20:52:13 (62.5 MB/s) - ‘./data/all-states-history.csv.1’ saved [2738601]\n\n"
        }
      ],
      "execution_count": 4,
      "metadata": {},
      "id": "73bc931d-59d1-4fa7-876f-ce597a1ca153"
    },
    {
      "cell_type": "code",
      "source": [
        "file_url = \"./data/all-states-history.csv\"\n",
        "df = pd.read_csv(file_url).fillna(value = 0)\n",
        "print(\"Rows and Columns:\",df.shape)\n",
        "df.head()"
      ],
      "outputs": [
        {
          "output_type": "stream",
          "name": "stdout",
          "text": "Rows and Columns: (20780, 41)\n"
        },
        {
          "output_type": "execute_result",
          "execution_count": 6,
          "data": {
            "text/plain": "         date state    death  deathConfirmed  deathIncrease  deathProbable  \\\n0  2021-03-07    AK    305.0             0.0              0            0.0   \n1  2021-03-07    AL  10148.0          7963.0             -1         2185.0   \n2  2021-03-07    AR   5319.0          4308.0             22         1011.0   \n3  2021-03-07    AS      0.0             0.0              0            0.0   \n4  2021-03-07    AZ  16328.0         14403.0              5         1925.0   \n\n   hospitalized  hospitalizedCumulative  hospitalizedCurrently  \\\n0        1293.0                  1293.0                   33.0   \n1       45976.0                 45976.0                  494.0   \n2       14926.0                 14926.0                  335.0   \n3           0.0                     0.0                    0.0   \n4       57907.0                 57907.0                  963.0   \n\n   hospitalizedIncrease  ...  totalTestResults  totalTestResultsIncrease  \\\n0                     0  ...         1731628.0                         0   \n1                     0  ...         2323788.0                      2347   \n2                    11  ...         2736442.0                      3380   \n3                     0  ...            2140.0                         0   \n4                    44  ...         7908105.0                     45110   \n\n   totalTestsAntibody  totalTestsAntigen  totalTestsPeopleAntibody  \\\n0                 0.0                0.0                       0.0   \n1                 0.0                0.0                  119757.0   \n2                 0.0                0.0                       0.0   \n3                 0.0                0.0                       0.0   \n4            580569.0                0.0                  444089.0   \n\n   totalTestsPeopleAntigen  totalTestsPeopleViral  \\\n0                      0.0                    0.0   \n1                      0.0              2323788.0   \n2                 481311.0                    0.0   \n3                      0.0                    0.0   \n4                      0.0              3842945.0   \n\n   totalTestsPeopleViralIncrease  totalTestsViral  totalTestsViralIncrease  \n0                              0        1731628.0                        0  \n1                           2347              0.0                        0  \n2                              0        2736442.0                     3380  \n3                              0           2140.0                        0  \n4                          14856        7908105.0                    45110  \n\n[5 rows x 41 columns]",
            "text/html": "<div>\n<style scoped>\n    .dataframe tbody tr th:only-of-type {\n        vertical-align: middle;\n    }\n\n    .dataframe tbody tr th {\n        vertical-align: top;\n    }\n\n    .dataframe thead th {\n        text-align: right;\n    }\n</style>\n<table border=\"1\" class=\"dataframe\">\n  <thead>\n    <tr style=\"text-align: right;\">\n      <th></th>\n      <th>date</th>\n      <th>state</th>\n      <th>death</th>\n      <th>deathConfirmed</th>\n      <th>deathIncrease</th>\n      <th>deathProbable</th>\n      <th>hospitalized</th>\n      <th>hospitalizedCumulative</th>\n      <th>hospitalizedCurrently</th>\n      <th>hospitalizedIncrease</th>\n      <th>...</th>\n      <th>totalTestResults</th>\n      <th>totalTestResultsIncrease</th>\n      <th>totalTestsAntibody</th>\n      <th>totalTestsAntigen</th>\n      <th>totalTestsPeopleAntibody</th>\n      <th>totalTestsPeopleAntigen</th>\n      <th>totalTestsPeopleViral</th>\n      <th>totalTestsPeopleViralIncrease</th>\n      <th>totalTestsViral</th>\n      <th>totalTestsViralIncrease</th>\n    </tr>\n  </thead>\n  <tbody>\n    <tr>\n      <th>0</th>\n      <td>2021-03-07</td>\n      <td>AK</td>\n      <td>305.0</td>\n      <td>0.0</td>\n      <td>0</td>\n      <td>0.0</td>\n      <td>1293.0</td>\n      <td>1293.0</td>\n      <td>33.0</td>\n      <td>0</td>\n      <td>...</td>\n      <td>1731628.0</td>\n      <td>0</td>\n      <td>0.0</td>\n      <td>0.0</td>\n      <td>0.0</td>\n      <td>0.0</td>\n      <td>0.0</td>\n      <td>0</td>\n      <td>1731628.0</td>\n      <td>0</td>\n    </tr>\n    <tr>\n      <th>1</th>\n      <td>2021-03-07</td>\n      <td>AL</td>\n      <td>10148.0</td>\n      <td>7963.0</td>\n      <td>-1</td>\n      <td>2185.0</td>\n      <td>45976.0</td>\n      <td>45976.0</td>\n      <td>494.0</td>\n      <td>0</td>\n      <td>...</td>\n      <td>2323788.0</td>\n      <td>2347</td>\n      <td>0.0</td>\n      <td>0.0</td>\n      <td>119757.0</td>\n      <td>0.0</td>\n      <td>2323788.0</td>\n      <td>2347</td>\n      <td>0.0</td>\n      <td>0</td>\n    </tr>\n    <tr>\n      <th>2</th>\n      <td>2021-03-07</td>\n      <td>AR</td>\n      <td>5319.0</td>\n      <td>4308.0</td>\n      <td>22</td>\n      <td>1011.0</td>\n      <td>14926.0</td>\n      <td>14926.0</td>\n      <td>335.0</td>\n      <td>11</td>\n      <td>...</td>\n      <td>2736442.0</td>\n      <td>3380</td>\n      <td>0.0</td>\n      <td>0.0</td>\n      <td>0.0</td>\n      <td>481311.0</td>\n      <td>0.0</td>\n      <td>0</td>\n      <td>2736442.0</td>\n      <td>3380</td>\n    </tr>\n    <tr>\n      <th>3</th>\n      <td>2021-03-07</td>\n      <td>AS</td>\n      <td>0.0</td>\n      <td>0.0</td>\n      <td>0</td>\n      <td>0.0</td>\n      <td>0.0</td>\n      <td>0.0</td>\n      <td>0.0</td>\n      <td>0</td>\n      <td>...</td>\n      <td>2140.0</td>\n      <td>0</td>\n      <td>0.0</td>\n      <td>0.0</td>\n      <td>0.0</td>\n      <td>0.0</td>\n      <td>0.0</td>\n      <td>0</td>\n      <td>2140.0</td>\n      <td>0</td>\n    </tr>\n    <tr>\n      <th>4</th>\n      <td>2021-03-07</td>\n      <td>AZ</td>\n      <td>16328.0</td>\n      <td>14403.0</td>\n      <td>5</td>\n      <td>1925.0</td>\n      <td>57907.0</td>\n      <td>57907.0</td>\n      <td>963.0</td>\n      <td>44</td>\n      <td>...</td>\n      <td>7908105.0</td>\n      <td>45110</td>\n      <td>580569.0</td>\n      <td>0.0</td>\n      <td>444089.0</td>\n      <td>0.0</td>\n      <td>3842945.0</td>\n      <td>14856</td>\n      <td>7908105.0</td>\n      <td>45110</td>\n    </tr>\n  </tbody>\n</table>\n<p>5 rows × 41 columns</p>\n</div>"
          },
          "metadata": {}
        }
      ],
      "execution_count": 6,
      "metadata": {
        "gather": {
          "logged": 1727039456092
        }
      },
      "id": "54c0f7eb-0ec2-44aa-b02b-8dbe1b122b28"
    },
    {
      "cell_type": "code",
      "source": [
        "df.columns"
      ],
      "outputs": [
        {
          "output_type": "execute_result",
          "execution_count": 6,
          "data": {
            "text/plain": "Index(['date', 'state', 'death', 'deathConfirmed', 'deathIncrease',\n       'deathProbable', 'hospitalized', 'hospitalizedCumulative',\n       'hospitalizedCurrently', 'hospitalizedIncrease', 'inIcuCumulative',\n       'inIcuCurrently', 'negative', 'negativeIncrease',\n       'negativeTestsAntibody', 'negativeTestsPeopleAntibody',\n       'negativeTestsViral', 'onVentilatorCumulative', 'onVentilatorCurrently',\n       'positive', 'positiveCasesViral', 'positiveIncrease', 'positiveScore',\n       'positiveTestsAntibody', 'positiveTestsAntigen',\n       'positiveTestsPeopleAntibody', 'positiveTestsPeopleAntigen',\n       'positiveTestsViral', 'recovered', 'totalTestEncountersViral',\n       'totalTestEncountersViralIncrease', 'totalTestResults',\n       'totalTestResultsIncrease', 'totalTestsAntibody', 'totalTestsAntigen',\n       'totalTestsPeopleAntibody', 'totalTestsPeopleAntigen',\n       'totalTestsPeopleViral', 'totalTestsPeopleViralIncrease',\n       'totalTestsViral', 'totalTestsViralIncrease'],\n      dtype='object')"
          },
          "metadata": {}
        }
      ],
      "execution_count": 6,
      "metadata": {
        "gather": {
          "logged": 1727038341957
        }
      },
      "id": "d703e877-0a85-43c5-ab35-8ecbe72c44c8"
    },
    {
      "cell_type": "markdown",
      "source": [
        "## CSV/Pandas Agent"
      ],
      "metadata": {},
      "id": "21f25d06-03c3-4f73-bb9a-5a43777d1bf5"
    },
    {
      "cell_type": "markdown",
      "source": [
        "LLMs are great for building question-answering systems over various types of data sources. In this section we’ll go over how to build Q&A systems over data stored in a CSV file(s). Like we did in the last notebook, the key to working with tabular CSV files is to give an LLM access to tools/experts for querying and interacting with the data"
      ],
      "metadata": {},
      "id": "87d4c5dd-8d4b-4a7b-a108-99486582530d"
    },
    {
      "cell_type": "code",
      "source": [
        "# Let's delve into a challenging question that demands a multi-step solution. \n",
        "# The path to solving it might not be immediately clear.\n",
        "# When examining the dataframe above, even a human might struggle to determine which columns are pertinent.\n",
        "\n",
        "QUESTION = \"\"\"\n",
        "How may patients were hospitalized during July 2020 in Texas. \n",
        "And nationwide as the total of all states? \n",
        "Use the hospitalizedIncrease column\n",
        "\"\"\""
      ],
      "outputs": [],
      "execution_count": 2,
      "metadata": {
        "gather": {
          "logged": 1727039340258
        }
      },
      "id": "b86deb94-a500-4187-9638-55fc64ce0115"
    },
    {
      "cell_type": "code",
      "source": [
        "from azure.identity import ManagedIdentityCredential\n",
        "from langchain_openai import AzureChatOpenAI\n",
        "#from langchain.chat_models import AzureChatOpenAI\n",
        "import openai\n",
        "\n",
        "# Step 1: Specify the client ID of the User Managed Identity\n",
        "user_managed_identity_client_id = \"d30cba06-04c1-4065-a91d-8b7ce3b07b78\"  # Replace with your User Managed Identity client ID\n",
        "\n",
        "# Step 2: Fetch the access token using ManagedIdentityCredential and the client ID of the user-managed identity\n",
        "credential = ManagedIdentityCredential(client_id=user_managed_identity_client_id)\n",
        "token = credential.get_token(\"https://cognitiveservices.azure.com/.default\")\n",
        "\n",
        "# Step 3: Set the access token in the OpenAI API\n",
        "openai.api_key = token.token\n",
        "openai.api_type = \"azure\"\n",
        "openai.api_base = \"https://azuremlopenai.openai.azure.com/\"  # Replace with your OpenAI resource's base URL\n",
        "openai.api_version = \"2023-06-01-preview\"  # Use the correct API version\n",
        "\n",
        "# Step 4: Use AzureChatOpenAI with Langchain\n",
        "llm = AzureChatOpenAI(\n",
        "    openai_api_key=token.token,  # Pass the managed identity token as the API key\n",
        "    deployment_name=\"gpt-4o\",  # Replace with your deployment name\n",
        "    azure_endpoint=openai.api_base,  # Pass the API base URL\n",
        "    openai_api_version=openai.api_version,  # Pass the API version\n",
        "    temperature=0, max_tokens=500\n",
        ")\n",
        "\n",
        "# Now you can use the chat model like any other Langchain model\n",
        "response = llm.invoke(QUESTION)\n",
        "print(response)\n"
      ],
      "outputs": [
        {
          "output_type": "stream",
          "name": "stdout",
          "text": "content='To provide the specific number of patients hospitalized during July 2020 in Texas and nationwide using the \"hospitalizedIncrease\" column, I would need access to the COVID-19 hospitalization data from that period. This data is typically available from health departments or organizations that track COVID-19 statistics, such as the COVID Tracking Project or the Centers for Disease Control and Prevention (CDC).\\n\\nHowever, I can guide you on how to find this information:\\n\\n1. **COVID Tracking Project**: This project was a reliable source for COVID-19 data in the United States until it stopped collecting data in March 2021. You can access their historical data on GitHub or their website archives.\\n\\n2. **CDC COVID Data Tracker**: The CDC provides comprehensive data on COVID-19, including hospitalizations. You can visit their website and use their data tracker to find historical data.\\n\\n3. **State Health Departments**: For Texas-specific data, you can visit the Texas Department of State Health Services website, which provides detailed COVID-19 statistics, including hospitalizations.\\n\\nTo calculate the number of hospitalizations in July 2020:\\n\\n1. **Download the Data**: Obtain the daily hospitalization data for July 2020 from the sources mentioned above.\\n2. **Filter the Data**: Filter the data to include only the dates from July 1, 2020, to July 31, 2020.\\n3. **Sum the Hospitalized Increase**: Sum the values in the \"hospitalizedIncrease\" column for the filtered dates to get the total number of hospitalizations for the month.\\n\\nIf you have access to the data, you can use a tool like Excel, Google Sheets, or a programming language like Python to perform these calculations.\\n\\nIf you need further assistance with accessing or analyzing the data, please let me know!' response_metadata={'token_usage': {'completion_tokens': 366, 'prompt_tokens': 34, 'total_tokens': 400}, 'model_name': 'gpt-4o-2024-05-13', 'system_fingerprint': 'fp_80a1bad4c7', 'prompt_filter_results': [{'prompt_index': 0, 'content_filter_results': {'hate': {'filtered': False, 'severity': 'safe'}, 'self_harm': {'filtered': False, 'severity': 'safe'}, 'sexual': {'filtered': False, 'severity': 'safe'}, 'violence': {'filtered': False, 'severity': 'safe'}}}], 'finish_reason': 'stop', 'logprobs': None, 'content_filter_results': {'hate': {'filtered': False, 'severity': 'safe'}, 'self_harm': {'filtered': False, 'severity': 'safe'}, 'sexual': {'filtered': False, 'severity': 'safe'}, 'violence': {'filtered': False, 'severity': 'safe'}}} id='run-e671ca29-07ad-495b-874f-dadc64f490cd-0'\n"
        }
      ],
      "execution_count": 4,
      "metadata": {
        "jupyter": {
          "source_hidden": false,
          "outputs_hidden": false
        },
        "nteract": {
          "transient": {
            "deleting": false
          }
        },
        "gather": {
          "logged": 1727039430588
        }
      },
      "id": "6c789e88-296b-4749-a981-4737e7836af2"
    },
    {
      "cell_type": "markdown",
      "source": [
        "Now we **need our agent and our expert/tool.**  \n",
        "LangChain has created an out-of-the-box agents that we can use to solve our Q&A to CSV tabular data file problem. For more informatio about tje **CSV Agent** click [HERE](https://python.langchain.com/en/latest/modules/agents/toolkits/examples/csv.html)"
      ],
      "metadata": {},
      "id": "66a4d7d9-17c9-49cc-a98a-a5c7ace0480d"
    },
    {
      "cell_type": "code",
      "source": [
        "agent_executor = create_pandas_dataframe_agent(llm=llm,\n",
        "                                               df=df,\n",
        "                                               verbose=True,\n",
        "                                               agent_type=\"openai-tools\")"
      ],
      "outputs": [],
      "execution_count": 22,
      "metadata": {
        "jupyter": {
          "source_hidden": false,
          "outputs_hidden": false
        },
        "nteract": {
          "transient": {
            "deleting": false
          }
        },
        "gather": {
          "logged": 1727039091579
        }
      },
      "id": "3b4dec58-92ec-4ebe-8902-f477be25f5ed"
    },
    {
      "cell_type": "code",
      "source": [
        "%%time\n",
        "try:\n",
        "    display(Markdown(agent_executor.invoke(QUESTION)['output']))\n",
        "except Exception as e:\n",
        "    print(e)"
      ],
      "outputs": [
        {
          "output_type": "stream",
          "name": "stdout",
          "text": "\n\n\u001b[1m> Entering new AgentExecutor chain...\u001b[0m\n\u001b[32;1m\u001b[1;3m\nInvoking: `python_repl_ast` with `{'query': \"df[df['date'].str.startswith('2020-07') & (df['state'] == 'TX')]['hospitalizedIncrease'].sum()\"}`\n\n\n\u001b[0m\u001b[36;1m\u001b[1;3m0\u001b[0m\u001b[32;1m\u001b[1;3m\nInvoking: `python_repl_ast` with `{'query': \"df[df['date'].str.startswith('2020-07')]['hospitalizedIncrease'].sum()\"}`\n\n\n\u001b[0m\u001b[36;1m\u001b[1;3m63105\u001b[0m\u001b[32;1m\u001b[1;3mIn July 2020, there were 0 patients hospitalized in Texas according to the `hospitalizedIncrease` column. Nationwide, the total of all states was 63,105 hospitalized patients.\u001b[0m\n\n\u001b[1m> Finished chain.\u001b[0m\n"
        },
        {
          "output_type": "display_data",
          "data": {
            "text/plain": "<IPython.core.display.Markdown object>",
            "text/markdown": "In July 2020, there were 0 patients hospitalized in Texas according to the `hospitalizedIncrease` column. Nationwide, the total of all states was 63,105 hospitalized patients."
          },
          "metadata": {}
        },
        {
          "output_type": "stream",
          "name": "stdout",
          "text": "CPU times: user 175 ms, sys: 15.9 ms, total: 190 ms\nWall time: 2.01 s\n"
        }
      ],
      "execution_count": 15,
      "metadata": {
        "jupyter": {
          "source_hidden": false,
          "outputs_hidden": false
        },
        "nteract": {
          "transient": {
            "deleting": false
          }
        }
      },
      "id": "9f939707-6425-4b0a-a1c3-3dfff1b4aed8"
    },
    {
      "cell_type": "markdown",
      "source": [
        "## Enjoy the response and the power of GPT-4 + REACT/MKRL approach"
      ],
      "metadata": {},
      "id": "7d0220e2-9b3f-467e-9843-7a27a09fd39b"
    },
    {
      "cell_type": "code",
      "source": [
        "# We are doing a for loop to retry N times. This is because: \n",
        "# 1) GPT-4 is still in preview and the API is being very throttled and \n",
        "# 2) Because the LLM not always gives the answer on the exact format the agent needs and hence cannot be parsed\n",
        "\n",
        "for i in range(5):\n",
        "    try:\n",
        "        response = agent_executor.run(CSV_PROMPT_PREFIX + QUESTION + CSV_PROMPT_SUFFIX) \n",
        "        break\n",
        "    except:\n",
        "        response = \"Error too many failed retries\"\n",
        "        continue\n",
        "        \n",
        "print(response)"
      ],
      "outputs": [
        {
          "output_type": "stream",
          "name": "stderr",
          "text": "/anaconda/envs/azureml_py310_sdkv2/lib/python3.10/site-packages/langchain_core/_api/deprecation.py:119: LangChainDeprecationWarning: The method `Chain.run` was deprecated in langchain 0.1.0 and will be removed in 0.3.0. Use invoke instead.\n  warn_deprecated(\n"
        },
        {
          "output_type": "stream",
          "name": "stdout",
          "text": "\n\n\u001b[1m> Entering new AgentExecutor chain...\u001b[0m\n\u001b[32;1m\u001b[1;3mThought: First, I need to set the pandas display options to show all columns. Then, I will filter the dataframe for the state of Texas and the month of July 2020. I will sum the `hospitalizedIncrease` column for these filtered rows to get the number of hospitalized patients in Texas. Similarly, I will filter the dataframe for the month of July 2020 and sum the `hospitalizedIncrease` column for all states to get the nationwide total.\n\nAction: Set pandas display options to show all columns and get the column names.\nAction Input: \n```python\nimport pandas as pd\npd.set_option('display.max_columns', None)\ndf.columns\n```\u001b[0mSet pandas display options to show all columns and get the column names. is not a valid tool, try one of [python_repl_ast].\u001b[32;1m\u001b[1;3mI need to set the pandas display options to show all columns and then get the column names to understand the structure of the dataframe. After that, I will filter the dataframe for the state of Texas and the month of July 2020, and sum the `hospitalizedIncrease` column for these filtered rows. Similarly, I will filter the dataframe for the month of July 2020 and sum the `hospitalizedIncrease` column for all states to get the nationwide total.\n\nAction: Set pandas display options to show all columns and get the column names.\nAction Input: \n```python\nimport pandas as pd\npd.set_option('display.max_columns', None)\ndf.columns\n```\u001b[0mSet pandas display options to show all columns and get the column names. is not a valid tool, try one of [python_repl_ast].\u001b[32;1m\u001b[1;3mI need to set the pandas display options to show all columns and then get the column names to understand the structure of the dataframe. After that, I will filter the dataframe for the state of Texas and the month of July 2020, and sum the `hospitalizedIncrease` column for these filtered rows. Similarly, I will filter the dataframe for the month of July 2020 and sum the `hospitalizedIncrease` column for all states to get the nationwide total.\n\nAction: Set pandas display options to show all columns and get the column names.\nAction Input: \n```python\nimport pandas as pd\npd.set_option('display.max_columns', None)\ndf.columns\n```\u001b[0mSet pandas display options to show all columns and get the column names. is not a valid tool, try one of [python_repl_ast].\u001b[32;1m\u001b[1;3mIt seems I repeated the same action multiple times without success. Let's proceed step by step to achieve the goal.\n\nFirst, I will set the pandas display options to show all columns. Then, I will get the column names to understand the structure of the dataframe. After that, I will filter the dataframe for the state of Texas and the month of July 2020, and sum the `hospitalizedIncrease` column for these filtered rows. Similarly, I will filter the dataframe for the month of July 2020 and sum the `hospitalizedIncrease` column for all states to get the nationwide total.\n\nLet's start by setting the pandas display options and getting the column names.\n\nAction: Set pandas display options to show all columns and get the column names.\nAction Input: \n```python\nimport pandas as pd\npd.set_option('display.max_columns', None)\ndf.columns\n```\u001b[0mSet pandas display options to show all columns and get the column names. is not a valid tool, try one of [python_repl_ast].\u001b[32;1m\u001b[1;3mIt seems I repeated the same action multiple times without success. Let's proceed step by step to achieve the goal.\n\nFirst, I will set the pandas display options to show all columns. Then, I will get the column names to understand the structure of the dataframe. After that, I will filter the dataframe for the state of Texas and the month of July 2020, and sum the `hospitalizedIncrease` column for these filtered rows. Similarly, I will filter the dataframe for the month of July 2020 and sum the `hospitalizedIncrease` column for all states to get the nationwide total.\n\nLet's start by setting the pandas display options and getting the column names.\n\nAction: Set pandas display options to show all columns and get the column names.\nAction Input: \n```python\nimport pandas as pd\npd.set_option('display.max_columns', None)\ndf.columns\n```\u001b[0mSet pandas display options to show all columns and get the column names. is not a valid tool, try one of [python_repl_ast].\u001b[32;1m\u001b[1;3mIt seems I repeated the same action multiple times without success. Let's proceed step by step to achieve the goal.\n\nFirst, I will set the pandas display options to show all columns. Then, I will get the column names to understand the structure of the dataframe. After that, I will filter the dataframe for the state of Texas and the month of July 2020, and sum the `hospitalizedIncrease` column for these filtered rows. Similarly, I will filter the dataframe for the month of July 2020 and sum the `hospitalizedIncrease` column for all states to get the nationwide total.\n\nLet's start by setting the pandas display options and getting the column names.\n\nAction: Set pandas display options to show all columns and get the column names.\nAction Input: \n```python\nimport pandas as pd\npd.set_option('display.max_columns', None)\ndf.columns\n```\u001b[0mSet pandas display options to show all columns and get the column names. is not a valid tool, try one of [python_repl_ast].\u001b[32;1m\u001b[1;3mIt seems I repeated the same action multiple times without success. Let's proceed step by step to achieve the goal.\n\nFirst, I will set the pandas display options to show all columns. Then, I will get the column names to understand the structure of the dataframe. After that, I will filter the dataframe for the state of Texas and the month of July 2020, and sum the `hospitalizedIncrease` column for these filtered rows. Similarly, I will filter the dataframe for the month of July 2020 and sum the `hospitalizedIncrease` column for all states to get the nationwide total.\n\nLet's start by setting the pandas display options and getting the column names.\n\nAction: Set pandas display options to show all columns and get the column names.\nAction Input: \n```python\nimport pandas as pd\npd.set_option('display.max_columns', None)\ndf.columns\n```\u001b[0mSet pandas display options to show all columns and get the column names. is not a valid tool, try one of [python_repl_ast].\u001b[32;1m\u001b[1;3mIt seems I repeated the same action multiple times without success. Let's proceed step by step to achieve the goal.\n\nFirst, I will set the pandas display options to show all columns. Then, I will get the column names to understand the structure of the dataframe. After that, I will filter the dataframe for the state of Texas and the month of July 2020, and sum the `hospitalizedIncrease` column for these filtered rows. Similarly, I will filter the dataframe for the month of July 2020 and sum the `hospitalizedIncrease` column for all states to get the nationwide total.\n\nLet's start by setting the pandas display options and getting the column names.\n\nAction: Set pandas display options to show all columns and get the column names.\nAction Input: \n```python\nimport pandas as pd\npd.set_option('display.max_columns', None)\ndf.columns\n```\u001b[0mSet pandas display options to show all columns and get the column names. is not a valid tool, try one of [python_repl_ast].\u001b[32;1m\u001b[1;3mIt seems I have been repeating the same action without success. Let's break down the task into smaller steps and proceed accordingly.\n\nFirst, I will set the pandas display options to show all columns. Then, I will get the column names to understand the structure of the dataframe. After that, I will filter the dataframe for the state of Texas and the month of July 2020, and sum the `hospitalizedIncrease` column for these filtered rows. Similarly, I will filter the dataframe for the month of July 2020 and sum the `hospitalizedIncrease` column for all states to get the nationwide total.\n\nLet's start by setting the pandas display options and getting the column names.\n\nAction: Set pandas display options to show all columns and get the column names.\nAction Input: \n```python\nimport pandas as pd\npd.set_option('display.max_columns', None)\ndf.columns\n```\u001b[0mSet pandas display options to show all columns and get the column names. is not a valid tool, try one of [python_repl_ast].\u001b[32;1m\u001b[1;3mIt seems I have been repeating the same action without success. Let's break down the task into smaller steps and proceed accordingly.\n\nFirst, I will set the pandas display options to show all columns. Then, I will get the column names to understand the structure of the dataframe. After that, I will filter the dataframe for the state of Texas and the month of July 2020, and sum the `hospitalizedIncrease` column for these filtered rows. Similarly, I will filter the dataframe for the month of July 2020 and sum the `hospitalizedIncrease` column for all states to get the nationwide total.\n\nLet's start by setting the pandas display options and getting the column names.\n\nAction: Set pandas display options to show all columns and get the column names.\nAction Input: \n```python\nimport pandas as pd\npd.set_option('display.max_columns', None)\ndf.columns\n```\u001b[0mSet pandas display options to show all columns and get the column names. is not a valid tool, try one of [python_repl_ast].\u001b[32;1m\u001b[1;3mIt seems I have been repeating the same action without success. Let's break down the task into smaller steps and proceed accordingly.\n\nFirst, I will set the pandas display options to show all columns. Then, I will get the column names to understand the structure of the dataframe. After that, I will filter the dataframe for the state of Texas and the month of July 2020, and sum the `hospitalizedIncrease` column for these filtered rows. Similarly, I will filter the dataframe for the month of July 2020 and sum the `hospitalizedIncrease` column for all states to get the nationwide total.\n\nLet's start by setting the pandas display options and getting the column names.\n\nAction: Set pandas display options to show all columns and get the column names.\nAction Input: \n```python\nimport pandas as pd\npd.set_option('display.max_columns', None)\ndf.columns\n```\u001b[0mSet pandas display options to show all columns and get the column names. is not a valid tool, try one of [python_repl_ast].\u001b[32;1m\u001b[1;3mIt seems I have been repeating the same action without success. Let's break down the task into smaller steps and proceed accordingly.\n\nFirst, I will set the pandas display options to show all columns. Then, I will get the column names to understand the structure of the dataframe. After that, I will filter the dataframe for the state of Texas and the month of July 2020, and sum the `hospitalizedIncrease` column for these filtered rows. Similarly, I will filter the dataframe for the month of July 2020 and sum the `hospitalizedIncrease` column for all states to get the nationwide total.\n\nLet's start by setting the pandas display options and getting the column names.\n\nAction: Set pandas display options to show all columns and get the column names.\nAction Input: \n```python\nimport pandas as pd\npd.set_option('display.max_columns', None)\ndf.columns\n```\u001b[0mSet pandas display options to show all columns and get the column names. is not a valid tool, try one of [python_repl_ast].\u001b[32;1m\u001b[1;3mIt seems I have been repeating the same action without success. Let's break down the task into smaller steps and proceed accordingly.\n\nFirst, I will set the pandas display options to show all columns. Then, I will get the column names to understand the structure of the dataframe. After that, I will filter the dataframe for the state of Texas and the month of July 2020, and sum the `hospitalizedIncrease` column for these filtered rows. Similarly, I will filter the dataframe for the month of July 2020 and sum the `hospitalizedIncrease` column for all states to get the nationwide total.\n\nLet's start by setting the pandas display options and getting the column names.\n\nAction: Set pandas display options to show all columns and get the column names.\nAction Input: \n```python\nimport pandas as pd\npd.set_option('display.max_columns', None)\ndf.columns\n```\u001b[0mSet pandas display options to show all columns and get the column names. is not a valid tool, try one of [python_repl_ast].\u001b[32;1m\u001b[1;3mIt seems I have been repeating the same action without success. Let's break down the task into smaller steps and proceed accordingly.\n\nFirst, I will set the pandas display options to show all columns. Then, I will get the column names to understand the structure of the dataframe. After that, I will filter the dataframe for the state of Texas and the month of July 2020, and sum the `hospitalizedIncrease` column for these filtered rows. Similarly, I will filter the dataframe for the month of July 2020 and sum the `hospitalizedIncrease` column for all states to get the nationwide total.\n\nLet's start by setting the pandas display options and getting the column names.\n\nAction: Set pandas display options to show all columns and get the column names.\nAction Input: \n```python\nimport pandas as pd\npd.set_option('display.max_columns', None)\ndf.columns\n```\u001b[0mSet pandas display options to show all columns and get the column names. is not a valid tool, try one of [python_repl_ast].\u001b[32;1m\u001b[1;3mIt seems I have been repeating the same action without success. Let's break down the task into smaller steps and proceed accordingly.\n\nFirst, I will set the pandas display options to show all columns. Then, I will get the column names to understand the structure of the dataframe. After that, I will filter the dataframe for the state of Texas and the month of July 2020, and sum the `hospitalizedIncrease` column for these filtered rows. Similarly, I will filter the dataframe for the month of July 2020 and sum the `hospitalizedIncrease` column for all states to get the nationwide total.\n\nLet's start by setting the pandas display options and getting the column names.\n\nAction: Set pandas display options to show all columns and get the column names.\nAction Input: \n```python\nimport pandas as pd\npd.set_option('display.max_columns', None)\ndf.columns\n```\u001b[0mSet pandas display options to show all columns and get the column names. is not a valid tool, try one of [python_repl_ast].\u001b[32;1m\u001b[1;3m\u001b[0m\n\n\u001b[1m> Finished chain.\u001b[0m\nAgent stopped due to iteration limit or time limit.\n"
        }
      ],
      "execution_count": 10,
      "metadata": {
        "gather": {
          "logged": 1727039518225
        }
      },
      "id": "d6eb9727-036f-4a43-a796-7702183fc57d"
    },
    {
      "cell_type": "markdown",
      "source": [
        "That was good pandas code, and pretty fast. Let's add some prompt engineering to improve answer.    "
      ],
      "metadata": {
        "nteract": {
          "transient": {
            "deleting": false
          }
        }
      },
      "id": "0106e127-04ca-4f41-b21c-ac13f4d5e6a3"
    },
    {
      "cell_type": "markdown",
      "source": [
        "### Improving the Prompt"
      ],
      "metadata": {
        "nteract": {
          "transient": {
            "deleting": false
          }
        }
      },
      "id": "d28d8dca-6492-4bde-ad4c-fc369acbbb8c"
    },
    {
      "cell_type": "markdown",
      "source": [
        "We can give it now an improved sager prompt. In `prompts.py` you can find `CSV_PROMPT_PREFIX`"
      ],
      "metadata": {
        "nteract": {
          "transient": {
            "deleting": false
          }
        }
      },
      "id": "cde77b53-bd5d-4736-b8f3-a97ad83f6551"
    },
    {
      "cell_type": "code",
      "source": [
        "CSV_PROMPT_PREFIX"
      ],
      "outputs": [],
      "execution_count": null,
      "metadata": {
        "jupyter": {
          "source_hidden": false,
          "outputs_hidden": false
        },
        "nteract": {
          "transient": {
            "deleting": false
          }
        }
      },
      "id": "39cf30ff-1f2f-4711-bb0a-c96aa39434f8"
    },
    {
      "cell_type": "code",
      "source": [
        "agent_executor = create_pandas_dataframe_agent(llm=llm,\n",
        "                                               df=df,\n",
        "                                               prefix=CSV_PROMPT_PREFIX,\n",
        "                                               verbose=True,\n",
        "                                               agent_type=\"openai-tools\")"
      ],
      "outputs": [],
      "execution_count": null,
      "metadata": {
        "jupyter": {
          "source_hidden": false,
          "outputs_hidden": false
        },
        "nteract": {
          "transient": {
            "deleting": false
          }
        }
      },
      "id": "08f9ef7e-9811-4e2a-b840-813a29e95c91"
    },
    {
      "cell_type": "code",
      "source": [
        "%%time\n",
        "try:\n",
        "    display(Markdown(agent_executor.invoke(QUESTION)['output']))\n",
        "except Exception as e:\n",
        "    print(e)"
      ],
      "outputs": [],
      "execution_count": null,
      "metadata": {
        "jupyter": {
          "source_hidden": false,
          "outputs_hidden": false
        },
        "nteract": {
          "transient": {
            "deleting": false
          }
        }
      },
      "id": "b5d9fde7-b990-4ea7-a1ef-17d73d292ddb"
    },
    {
      "cell_type": "markdown",
      "source": [
        "## Evaluation\n",
        "Let's see if the answer is correct"
      ],
      "metadata": {},
      "id": "f732d941-e206-445b-a52c-b454398afba4"
    },
    {
      "cell_type": "code",
      "source": [
        "#df['date'] = pd.to_datetime(df['date'])\n",
        "july_2020 = df[(df['date'] >= '2020-07-01') & (df['date'] <= '2020-07-31')]\n",
        "texas_hospitalized_july_2020 = july_2020[july_2020['state'] == 'TX']['hospitalizedIncrease'].sum()\n",
        "nationwide_hospitalized_july_2020 = july_2020['hospitalizedIncrease'].sum()"
      ],
      "outputs": [],
      "execution_count": 11,
      "metadata": {
        "gather": {
          "logged": 1727039518336
        }
      },
      "id": "42209997-aa2a-4b97-b94b-a203bc4c6096"
    },
    {
      "cell_type": "code",
      "source": [
        "print( \"TX:\",texas_hospitalized_july_2020,\"Nationwide:\",nationwide_hospitalized_july_2020)"
      ],
      "outputs": [
        {
          "output_type": "stream",
          "name": "stdout",
          "text": "TX: 0 Nationwide: 63105\n"
        }
      ],
      "execution_count": 12,
      "metadata": {
        "gather": {
          "logged": 1727039518468
        }
      },
      "id": "349c3020-3383-4ad3-83a4-07c1ead1207d"
    },
    {
      "cell_type": "markdown",
      "source": [
        "It is Correct!\n",
        "\n",
        "**Note**: Obviously, there were hospitalizations in Texas in July 2020 (Try asking ChatGPT), but this particular File, for some reason has 0 on the column \"hospitalizedIncrease\" for Texas in July 2020. This proves though that the model is NOT making up information or using prior knowledge, but instead using only the results of its calculation on this CSV file. That's what we need!"
      ],
      "metadata": {},
      "id": "49988cb5-719c-4180-8ac5-0afa44018b50"
    },
    {
      "cell_type": "markdown",
      "source": [
        "# Summary"
      ],
      "metadata": {},
      "id": "073913d5-321b-4c56-9c66-649266cf6280"
    },
    {
      "cell_type": "markdown",
      "source": [
        "So, we just solved our problem on how to ask questions in natural language to our Tabular data hosted on a CSV File.\n",
        "With this approach you can see then that it is NOT necessary to make a dump of a database data into a CSV file and index that on a Search Engine, you don't even need to use the above approach and deal with a CSV data dump file. With the Agents framework, the best engineering decision is to interact directly with the data source API without the need to replicate the data in order to ask questions to it. Remember, LLMs can do SQL very well. \n",
        "\n",
        "\n",
        "**Note**: We don't recommend using a pandas agent to answer questions from tabular data. It is not fast and it makes too many parsing mistakes. We recommend using SQL (see next notebook)."
      ],
      "metadata": {},
      "id": "41108384-c132-45fc-92e4-31dc1bcf00c0"
    },
    {
      "cell_type": "markdown",
      "source": [
        "# NEXT\n",
        "We can see that GPT-3.5, and even better GPT-4, is powerful and can translate a natural language question into the right steps in python in order to query a CSV data loaded into a pandas dataframe. \n",
        "That's pretty amazing. However the question remains: **Do I need then to dump all the data from my original sources (Databases, ERP Systems, CRM Systems) in order to be searchable by a Smart Search Engine?**\n",
        "\n",
        "The next Notebook answers this question by implementing a Question->SQL process and get the information from data in a SQL Database, eliminating the need to dump it out."
      ],
      "metadata": {},
      "id": "88f769ab-db90-48f5-a6b9-60fc0a4a854f"
    }
  ],
  "metadata": {
    "kernelspec": {
      "name": "python310-sdkv2",
      "language": "python",
      "display_name": "Python 3.10 - SDK v2"
    },
    "language_info": {
      "name": "python",
      "version": "3.10.11",
      "mimetype": "text/x-python",
      "codemirror_mode": {
        "name": "ipython",
        "version": 3
      },
      "pygments_lexer": "ipython3",
      "nbconvert_exporter": "python",
      "file_extension": ".py"
    },
    "microsoft": {
      "ms_spell_check": {
        "ms_spell_check_language": "en"
      },
      "host": {
        "AzureML": {
          "notebookHasBeenCompleted": true
        }
      }
    },
    "kernel_info": {
      "name": "python310-sdkv2"
    },
    "nteract": {
      "version": "nteract-front-end@1.0.0"
    }
  },
  "nbformat": 4,
  "nbformat_minor": 5
}